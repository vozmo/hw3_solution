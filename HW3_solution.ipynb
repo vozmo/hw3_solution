{
 "cells": [
  {
   "cell_type": "markdown",
   "metadata": {
    "id": "dWcE-y-N-2fE"
   },
   "source": [
    "# Угадай число\n",
    "Нужно написать программу, которая угадывает число за минимальное число попыток.\n",
    "\n",
    "## Условия соревнования\n",
    "- Компьютер загадывает целое число от 1 до 100, и нам его нужно угадать. Под «угадать», подразумевается «написать программу, которая угадывает число».    \n",
    "- Алгоритм учитывает информацию о том, больше ли случайное число или меньше нужного нам.\n",
    "- Необходимо добиться того, чтобы программа угадывала число меньше, чем за 20 попыток.\n"
   ]
  },
  {
   "cell_type": "markdown",
   "metadata": {
    "id": "4sShzLei_ClF"
   },
   "source": [
    "Импортируем библиотеку, которая нам пригодится для генерации случайных чисел. В следующих темах вы познакомитесь с ней подробнее:"
   ]
  },
  {
   "cell_type": "code",
   "execution_count": 5,
   "metadata": {
    "executionInfo": {
     "elapsed": 238,
     "status": "ok",
     "timestamp": 1699115259808,
     "user": {
      "displayName": "София Плаксина",
      "userId": "01642478689865825572"
     },
     "user_tz": -180
    },
    "id": "KIy8PgXL-2fH"
   },
   "outputs": [],
   "source": [
    "import numpy as np"
   ]
  },
  {
   "cell_type": "markdown",
   "metadata": {
    "id": "shciKwTp-2fJ"
   },
   "source": [
    "## Решение"
   ]
  },
  {
   "cell_type": "markdown",
   "metadata": {
    "id": "XCYf-uZa-_Oa"
   },
   "source": [
    "Воспользуемся методом бинарного поиска: классическим методом поиска числа в отсортированной последовательности. Теоретически, максимальное кол-во попыток, за которое алгоритм должен угадывать число, составляет примерно 5 попыток."
   ]
  },
  {
   "cell_type": "code",
   "execution_count": 6,
   "metadata": {
    "id": "pJaQGNND-2fK"
   },
   "outputs": [],
   "source": [
    "def game_core_v3(number: int = 1) -> int:\n",
    "    \"\"\"Угадаем число методом бинарного поиска.\n",
    "\n",
    "    Args:\n",
    "        number (int, optional): Загаданное число. Defaults to 1.\n",
    "\n",
    "    Returns:\n",
    "    int: Число попыток\n",
    "    \"\"\"\n",
    "    left, right = 0, 101\n",
    "    count = 0\n",
    "    while True:\n",
    "        count += 1\n",
    "        predict = (left + right) // 2\n",
    "        if number == predict: return count\n",
    "        elif number > predict: left = predict\n",
    "        else: right = predict"
   ]
  },
  {
   "cell_type": "code",
   "execution_count": 7,
   "metadata": {
    "executionInfo": {
     "elapsed": 270,
     "status": "ok",
     "timestamp": 1699115247535,
     "user": {
      "displayName": "София Плаксина",
      "userId": "01642478689865825572"
     },
     "user_tz": -180
    },
    "id": "t4WXEDFS_ThY"
   },
   "outputs": [],
   "source": [
    "def score_game(random_predict) -> int:\n",
    "    \"\"\"За какое количество попыток в среднем за 10000 подходов угадывает наш алгоритм\n",
    "\n",
    "    Args:\n",
    "        random_predict ([type]): функция угадывания\n",
    "\n",
    "    Returns:\n",
    "        int: среднее количество попыток\n",
    "    \"\"\"\n",
    "    count_ls = []\n",
    "    #np.random.seed(1)  # фиксируем сид для воспроизводимости\n",
    "    random_array = np.random.randint(1, 101, size=(10000))  # загадали список чисел\n",
    "\n",
    "    for number in random_array:\n",
    "        count_ls.append(random_predict(number))\n",
    "\n",
    "    score = int(np.mean(count_ls))\n",
    "    print(f\"Ваш алгоритм угадывает число в среднем за: {score} попытки\")"
   ]
  },
  {
   "cell_type": "markdown",
   "metadata": {
    "id": "PCC3-Hwz-2fL"
   },
   "source": [
    "## Оценим работу алгоритма\n",
    "проверим, за сколько в среднем попыток алгоритм угадывает число."
   ]
  },
  {
   "cell_type": "code",
   "execution_count": 8,
   "metadata": {
    "colab": {
     "base_uri": "https://localhost:8080/"
    },
    "executionInfo": {
     "elapsed": 3512,
     "status": "ok",
     "timestamp": 1698665156377,
     "user": {
      "displayName": "Ок Хи Хван",
      "userId": "06194234022556986142"
     },
     "user_tz": -180
    },
    "id": "khrxOcEB-2fM",
    "outputId": "d03c9651-13ca-400a-de1f-c5a385b4f61e"
   },
   "outputs": [
    {
     "name": "stdout",
     "output_type": "stream",
     "text": [
      "Run benchmarking for predict: Ваш алгоритм угадывает число в среднем за: 5 попытки\n"
     ]
    }
   ],
   "source": [
    "#Run benchmarking to score effectiveness of all algorithms\n",
    "print('Run benchmarking for predict: ', end='')\n",
    "score_game(game_core_v3)"
   ]
  },
  {
   "cell_type": "markdown",
   "metadata": {
    "id": "_H0wabPwBfRo"
   },
   "source": [
    "Алгоритм стабильно укадывает число в среднем за 5 попыток, что является самым оптимальным решением этой задачи."
   ]
  },
  {
   "cell_type": "code",
   "execution_count": null,
   "metadata": {},
   "outputs": [],
   "source": []
  }
 ],
 "metadata": {
  "colab": {
   "provenance": [
    {
     "file_id": "1yxMNeHs5UbUP4ddwVMC6YsOk11RpVgU0",
     "timestamp": 1696611417435
    },
    {
     "file_id": "1k2WZD8PWWOYFHrpAJoB2eZw06ID7KnFA",
     "timestamp": 1696611376398
    }
   ]
  },
  "interpreter": {
   "hash": "09714a52f69239c6409b3d073f9f3ca0ddb4056fc648d88f7346d3f36a5c4020"
  },
  "kernelspec": {
   "display_name": "Python 3 (ipykernel)",
   "language": "python",
   "name": "python3"
  },
  "language_info": {
   "codemirror_mode": {
    "name": "ipython",
    "version": 3
   },
   "file_extension": ".py",
   "mimetype": "text/x-python",
   "name": "python",
   "nbconvert_exporter": "python",
   "pygments_lexer": "ipython3",
   "version": "3.9.18"
  }
 },
 "nbformat": 4,
 "nbformat_minor": 1
}
